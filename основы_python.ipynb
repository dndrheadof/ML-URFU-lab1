{
  "cells": [
    {
      "cell_type": "markdown",
      "metadata": {
        "id": "M-DGa20PaHnu"
      },
      "source": [
        "# Задача 1\n",
        "Написать функцию на вход которой подается строка, состоящая из латинских букв.\n",
        "Функция должна вернуть количество гласных букв (a, e, i, o, u) в этой строке. Написать тесты для кода"
      ]
    },
    {
      "cell_type": "code",
      "execution_count": 3,
      "metadata": {
        "id": "XvX8X_JJ6PCb"
      },
      "outputs": [],
      "source": [
        "def count_vowels(string):\n",
        "    count = 0\n",
        "    vowels = [\"a\", \"e\", \"i\", \"o\", \"u\"]\n",
        "    for letter in string:\n",
        "        if letter.lower() in vowels:\n",
        "            count += 1\n",
        "    return count\n",
        "\n",
        "assert count_vowels(\"hello\") == 2\n",
        "assert count_vowels(\"\") == 0\n",
        "assert count_vowels(\"hello world\") == 3\n",
        "assert count_vowels(\"123\") == 0"
      ]
    },
    {
      "cell_type": "markdown",
      "metadata": {
        "id": "t2ClV_Y0bbr6"
      },
      "source": [
        "# Задача 2\n",
        "Написать функцию на вход, которой подается строка. Функция должна вернуть true, если\n",
        "каждый символ в строке встречается только 1 раз, иначе должна вернуть false. Написать тесты для кода"
      ]
    },
    {
      "cell_type": "code",
      "execution_count": 6,
      "metadata": {
        "id": "FppbECao6VIz"
      },
      "outputs": [],
      "source": [
        "def string_unique(string):\n",
        "    return len(set(string)) == len(string)\n",
        "\n",
        "assert string_unique(\"hello\") == False\n",
        "assert string_unique(\"world\") == True"
      ]
    },
    {
      "cell_type": "markdown",
      "metadata": {
        "id": "udRiIK1cdt6E"
      },
      "source": [
        "# Задача 3\n",
        "Написать функцию, которая принимает положительное число и возвращает количество\n",
        "бит равных 1 в этом числе. Написать тесты для кода"
      ]
    },
    {
      "cell_type": "code",
      "execution_count": 3,
      "metadata": {
        "id": "6tkfDJRz6dp_"
      },
      "outputs": [],
      "source": [
        "def count_bits(number):\n",
        "    return bin(number).count('1')\n",
        "\n",
        "assert count_bits(0) == 0\n",
        "assert count_bits(4) == 1\n",
        "assert count_bits(7) == 3\n",
        "assert count_bits(123) == 6"
      ]
    },
    {
      "cell_type": "markdown",
      "metadata": {
        "id": "26dDUz-Ae17N"
      },
      "source": [
        "# Задача 4\n",
        "Написать функцию, которая принимает положительное число. Функция должна вернуть то,\n",
        "сколько раз необходимо перемножать цифры числа или результат перемножения, чтобы\n",
        "получилось число состоящее из одной цифры.\n",
        "Например, для входного числа:\n",
        "· 39 функция должна вернуть 3, так как 3*9=27 => 2*7=14 => 1*4=4\n",
        "· 4 функция должна вернуть 0, так как число уже состоит из одной цифры\n",
        "· 999 функция должна вернуть 4, так как 9*9*9=729 => 7*2*9=126 => 1*2*6=12 =>\n",
        "1*2=2. Написать тесты для кода"
      ]
    },
    {
      "cell_type": "code",
      "execution_count": 6,
      "metadata": {
        "id": "BH1A_Mgi6i4G"
      },
      "outputs": [],
      "source": [
        "def magic(n):\n",
        "    string = str(n)\n",
        "    result = 1\n",
        "    for digit in string:\n",
        "        result *= int(digit)\n",
        "    if len(str(result)) > 1:\n",
        "        return magic(result)\n",
        "    return result\n",
        "\n",
        "assert magic(39) == 4\n",
        "assert magic(999) == 2\n",
        "assert magic(111) == 1\n",
        "assert magic(100) == 0"
      ]
    },
    {
      "cell_type": "markdown",
      "metadata": {
        "id": "0nS-kIa8g8vd"
      },
      "source": [
        "# Задача 5\n",
        "Написать функцию, которая принимает два целочисленных вектора одинаковой длины и\n",
        "возвращает среднеквадратическое отклонение двух векторов. Написать тесты для кода"
      ]
    },
    {
      "cell_type": "code",
      "execution_count": 15,
      "metadata": {
        "id": "8iphx4LM6xbx"
      },
      "outputs": [],
      "source": [
        "import math\n",
        "\n",
        "def mse(pred, true):\n",
        "    mean_diff = sum((x - y) ** 2 for x, y in zip(pred, true)) / len(pred)\n",
        "    return math.sqrt(mean_diff)\n",
        "\n",
        "assert mse([1, 2, 3], [4, 5, 6]) == math.sqrt(9)\n",
        "assert mse([1, 5], [6, 10]) == math.sqrt(25)"
      ]
    },
    {
      "cell_type": "markdown",
      "metadata": {
        "id": "vpIPKL439zkw"
      },
      "source": [
        "# Задача 6\n",
        "Написать функцию, принимающая целое положительное число. Функция должна вернуть\n",
        "строку вида “(n1**p1)(n2**p2)…(nk**pk)” представляющая разложение числа на простые\n",
        "множители (если pi == 1, то выводить только ni).\n",
        "Например, для числа 86240 функция должна вернуть “(2**5)(5)(7**2)(11)”. Написать тесты для кода"
      ]
    },
    {
      "cell_type": "code",
      "execution_count": 75,
      "metadata": {
        "id": "pFebmcZk94Jw"
      },
      "outputs": [],
      "source": [
        "def prime_factors(n):\n",
        "    i = 2\n",
        "    factors = []\n",
        "    while i * i <= n:\n",
        "        if n % i:\n",
        "            i += 1\n",
        "        else:\n",
        "            n //= i\n",
        "            factors.append(i)\n",
        "    if n > 1:\n",
        "        factors.append(n)\n",
        "    \n",
        "    prime_factors_str = \"\"\n",
        "    for factor in sorted(set(factors)):\n",
        "        count = factors.count(factor)\n",
        "        prime_factors_str += f\"({factor})\" if count == 1 else f\"({factor}**{count})\"\n",
        "\n",
        "    return prime_factors_str\n",
        "\n",
        "assert prime_factors(2) == \"(2)\"\n",
        "assert prime_factors(10) == \"(2)(5)\"\n",
        "assert prime_factors(86240) == \"(2**5)(5)(7**2)(11)\"\n",
        "assert prime_factors(666) == \"(2)(3**2)(37)\"\n",
        "    "
      ]
    },
    {
      "cell_type": "markdown",
      "metadata": {
        "id": "ps2s0BudX7A2"
      },
      "source": [
        "# Задача 7\n",
        "Написать функцию, принимающая целое число n, задающее количество кубиков. Функция\n",
        "должна определить, можно ли из данного кол-ва кубиков построить пирамиду, то есть\n",
        "можно ли представить число n как 1^2+2^2+3^2+…+k^2. Если можно, то функция должна\n",
        "вернуть k, иначе строку “It is impossible”. Написать тесты для кода"
      ]
    },
    {
      "cell_type": "code",
      "execution_count": 38,
      "metadata": {
        "id": "3YPjEXxhX_YT"
      },
      "outputs": [],
      "source": [
        "def pyramid(number):\n",
        "    result = 0\n",
        "    count = 1\n",
        "\n",
        "    while result < number:\n",
        "        result += count ** 2\n",
        "        if result == number:\n",
        "            return count\n",
        "        count += 1\n",
        "    return \"It is impossible\"\n",
        "\n",
        "assert pyramid(14) == 3\n",
        "assert pyramid(10) == \"It is impossible\"\n",
        "assert pyramid(650) == 12"
      ]
    },
    {
      "cell_type": "markdown",
      "metadata": {
        "id": "KeKgmIdAQMEJ"
      },
      "source": [
        "# Задача 8\n",
        "Функция принимает на вход положительное число и определяет является ли оно сбалансированным, т.е. сумма цифр до средних равна сумме цифр после. Средними в случае нечетного числа цифр считать одну цифру, в случае четного - две средних. Написать тесты для кода"
      ]
    },
    {
      "cell_type": "code",
      "execution_count": 78,
      "metadata": {
        "id": "gMAAqtqlQrZt"
      },
      "outputs": [],
      "source": [
        "def is_balanced(number):\n",
        "    nums = list(map(int, str(number)))\n",
        "    mid = len(nums) // 2 if len(nums) % 2 else len(nums) // 2 - 1\n",
        "    offset = 1 if len(nums) % 2 != 0 else 2\n",
        "\n",
        "    return sum(nums[:mid]) == sum(nums[mid + offset:])\n",
        "\n",
        "assert is_balanced(123) == False\n",
        "assert is_balanced(112211) == True\n",
        "assert is_balanced(12355420) == True"
      ]
    }
  ],
  "metadata": {
    "colab": {
      "provenance": []
    },
    "kernelspec": {
      "display_name": "Python 3",
      "name": "python3"
    },
    "language_info": {
      "codemirror_mode": {
        "name": "ipython",
        "version": 3
      },
      "file_extension": ".py",
      "mimetype": "text/x-python",
      "name": "python",
      "nbconvert_exporter": "python",
      "pygments_lexer": "ipython3",
      "version": "3.10.12"
    }
  },
  "nbformat": 4,
  "nbformat_minor": 0
}
